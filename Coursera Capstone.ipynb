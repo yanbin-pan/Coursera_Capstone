{
    "cells": [
        {
            "cell_type": "markdown",
            "metadata": {
                "collapsed": true
            },
            "source": "# Coursera Capstone Project"
        },
        {
            "cell_type": "markdown",
            "metadata": {},
            "source": "This notebook details the results of the coursera capstone project"
        },
        {
            "cell_type": "markdown",
            "metadata": {},
            "source": "<em>Let's start by importing the numpy and pandas libraries</em>"
        },
        {
            "cell_type": "code",
            "execution_count": 120,
            "metadata": {},
            "outputs": [],
            "source": "import numpy as np\nimport pandas as pd"
        },
        {
            "cell_type": "code",
            "execution_count": 3,
            "metadata": {},
            "outputs": [
                {
                    "name": "stdout",
                    "output_type": "stream",
                    "text": "Hello Capstone Project Course!\n"
                }
            ],
            "source": "print('Hello Capstone Project Course!')"
        },
        {
            "cell_type": "markdown",
            "metadata": {},
            "source": "##  Week 3 Assignment: Segmenting and Clustering Neighborhoods in Toronto"
        },
        {
            "cell_type": "code",
            "execution_count": 14,
            "metadata": {},
            "outputs": [
                {
                    "name": "stdout",
                    "output_type": "stream",
                    "text": "Requirement already satisfied: beautifulsoup4 in /opt/conda/envs/Python36/lib/python3.6/site-packages (4.7.1)\nRequirement already satisfied: soupsieve>=1.2 in /opt/conda/envs/Python36/lib/python3.6/site-packages (from beautifulsoup4) (1.7.1)\n"
                }
            ],
            "source": "!pip install beautifulsoup4\nfrom bs4 import BeautifulSoup"
        },
        {
            "cell_type": "code",
            "execution_count": 21,
            "metadata": {},
            "outputs": [],
            "source": "import requests\nwiki_url = 'https://en.wikipedia.org/wiki/List_of_postal_codes_of_Canada:_M?oldformat=true'\nwiki_page = requests.get(wiki_url).text  # import the html text form the wikipedia page\n\nsoup = BeautifulSoup(wiki_page, 'html.parser') # use the BeautifulSOup package to parse the HTML "
        },
        {
            "cell_type": "code",
            "execution_count": 107,
            "metadata": {},
            "outputs": [
                {
                    "data": {
                        "text/plain": "'M1A\\n'"
                    },
                    "execution_count": 107,
                    "metadata": {},
                    "output_type": "execute_result"
                }
            ],
            "source": "# obtain the table data contained in the HTML\ntable = soup.find('table',{'class':'wikitable sortable'})\nlinks = table.find_all('td')\nlinks[0].text"
        },
        {
            "cell_type": "markdown",
            "metadata": {},
            "source": "Now that we have isolated the data from the HTML we can proceed to prreprocess and clean the data."
        },
        {
            "cell_type": "code",
            "execution_count": 257,
            "metadata": {},
            "outputs": [
                {
                    "name": "stdout",
                    "output_type": "stream",
                    "text": "The number of elements in postcodes are:  180\nThe number of elements in borough are:  180\nThe number of elements in neighborhood are:  180\n"
                }
            ],
            "source": "list_items = []\npostcodes = []\nborough = []\nneighborhood = []\n# take all the content present in 'links' and copy to a new variable to have it in a list form\nfor index in links:\n    list_items.append(index.text)\n    \n# filter the items in the list into postocde, borough and neighborhood\npostcodes_tmp = list_items[::3]\nborough_tmp = list_items[1::3]\nneighborhood_tmp = list_items[2::3]\nprint('The number of elements in postcodes are: ', len(postcodes_tmp))\nprint('The number of elements in borough are: ', len(borough_tmp))\nprint('The number of elements in neighborhood are: ', len(neighborhood_tmp))\n\n# clean the data from unwanted poscripts \\n\npostcodes.extend([s.strip('\\n') for s in postcodes_tmp])\nborough.extend([s.strip('\\n') for s in borough_tmp])\nneighborhood.extend([s.strip('\\n') for s in neighborhood_tmp])\n\n# transform into a pandas dataframe\ndf_postcodes = pd.DataFrame(postcodes)\ndf_borough = pd.DataFrame(borough)\ndf_neighborhood = pd.DataFrame(neighborhood)\n\ndf = pd.concat([df_postcodes, df_borough, df_neighborhood], axis=1)\ncolumns_name = ['PostalCode', 'Borough', 'Neighborhood']\ndf.columns = columns_name\n\n# drop rows which have not a borough assigned\ndf.drop(df[df['Borough'] == 'Not assigned'].index, inplace=True)"
        },
        {
            "cell_type": "code",
            "execution_count": 259,
            "metadata": {},
            "outputs": [
                {
                    "data": {
                        "text/plain": "(103, 3)"
                    },
                    "execution_count": 259,
                    "metadata": {},
                    "output_type": "execute_result"
                }
            ],
            "source": "df.shape # display number of rows and columns"
        },
        {
            "cell_type": "code",
            "execution_count": null,
            "metadata": {},
            "outputs": [],
            "source": ""
        }
    ],
    "metadata": {
        "kernelspec": {
            "display_name": "Python 3.6",
            "language": "python",
            "name": "python3"
        },
        "language_info": {
            "codemirror_mode": {
                "name": "ipython",
                "version": 3
            },
            "file_extension": ".py",
            "mimetype": "text/x-python",
            "name": "python",
            "nbconvert_exporter": "python",
            "pygments_lexer": "ipython3",
            "version": "3.6.9"
        }
    },
    "nbformat": 4,
    "nbformat_minor": 1
}